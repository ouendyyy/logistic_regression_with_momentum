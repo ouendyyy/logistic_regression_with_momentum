{
 "cells": [
  {
   "cell_type": "code",
   "execution_count": 1,
   "id": "dfab54c3",
   "metadata": {
    "_cell_guid": "b1076dfc-b9ad-4769-8c92-a6c4dae69d19",
    "_uuid": "8f2839f25d086af736a60e9eeb907d3b93b6e0e5",
    "execution": {
     "iopub.execute_input": "2022-03-08T14:01:10.086312Z",
     "iopub.status.busy": "2022-03-08T14:01:10.081665Z",
     "iopub.status.idle": "2022-03-08T14:01:10.098606Z",
     "shell.execute_reply": "2022-03-08T14:01:10.099783Z",
     "shell.execute_reply.started": "2021-12-24T11:38:46.92542Z"
    },
    "papermill": {
     "duration": 0.051261,
     "end_time": "2022-03-08T14:01:10.100289",
     "exception": false,
     "start_time": "2022-03-08T14:01:10.049028",
     "status": "completed"
    },
    "tags": []
   },
   "outputs": [
    {
     "name": "stdout",
     "output_type": "stream",
     "text": [
      "/kaggle/input/heart-failure-prediction/heart.csv\n"
     ]
    }
   ],
   "source": [
    "# This Python 3 environment comes with many helpful analytics libraries installed\n",
    "# It is defined by the kaggle/python Docker image: https://github.com/kaggle/docker-python\n",
    "# For example, here's several helpful packages to load\n",
    "\n",
    "import numpy as np # linear algebra\n",
    "import pandas as pd # data processing, CSV file I/O (e.g. pd.read_csv)\n",
    "\n",
    "# Input data files are available in the read-only \"../input/\" directory\n",
    "# For example, running this (by clicking run or pressing Shift+Enter) will list all files under the input directory\n",
    "\n",
    "import os\n",
    "for dirname, _, filenames in os.walk('/kaggle/input'):\n",
    "    for filename in filenames:\n",
    "        print(os.path.join(dirname, filename))\n",
    "\n",
    "# You can write up to 20GB to the current directory (/kaggle/working/) that gets preserved as output when you create a version using \"Save & Run All\" \n",
    "# You can also write temporary files to /kaggle/temp/, but they won't be saved outside of the current session"
   ]
  },
  {
   "cell_type": "code",
   "execution_count": 2,
   "id": "ceeec8f9",
   "metadata": {
    "execution": {
     "iopub.execute_input": "2022-03-08T14:01:10.157847Z",
     "iopub.status.busy": "2022-03-08T14:01:10.157021Z",
     "iopub.status.idle": "2022-03-08T14:01:11.451988Z",
     "shell.execute_reply": "2022-03-08T14:01:11.451211Z",
     "shell.execute_reply.started": "2021-12-24T11:38:46.940566Z"
    },
    "papermill": {
     "duration": 1.324402,
     "end_time": "2022-03-08T14:01:11.452136",
     "exception": false,
     "start_time": "2022-03-08T14:01:10.127734",
     "status": "completed"
    },
    "tags": []
   },
   "outputs": [],
   "source": [
    "import pandas as pd \n",
    "import numpy as np\n",
    "from sklearn.model_selection import train_test_split\n",
    "import matplotlib.pyplot as plt\n",
    "import seaborn as sns"
   ]
  },
  {
   "cell_type": "code",
   "execution_count": 3,
   "id": "88301782",
   "metadata": {
    "execution": {
     "iopub.execute_input": "2022-03-08T14:01:11.514235Z",
     "iopub.status.busy": "2022-03-08T14:01:11.513497Z",
     "iopub.status.idle": "2022-03-08T14:01:11.600084Z",
     "shell.execute_reply": "2022-03-08T14:01:11.599368Z",
     "shell.execute_reply.started": "2021-12-24T11:38:46.95402Z"
    },
    "papermill": {
     "duration": 0.12028,
     "end_time": "2022-03-08T14:01:11.600241",
     "exception": false,
     "start_time": "2022-03-08T14:01:11.479961",
     "status": "completed"
    },
    "tags": []
   },
   "outputs": [],
   "source": [
    "# Import the necessary librar ies\n",
    "import numpy as np\n",
    "import pandas as pd\n",
    "from sklearn.preprocessing import LabelEncoder\n",
    "from sklearn.model_selection import train_test_split\n",
    "import seaborn as sns\n",
    "import matplotlib as mpl \n",
    "import matplotlib.cm as cm \n",
    "import matplotlib.pyplot as plt \n",
    "from sklearn.linear_model import LogisticRegression, LogisticRegressionCV\n",
    "from sklearn.metrics import f1_score,recall_score,accuracy_score\n",
    "from sklearn.svm import SVC\n",
    "import sklearn\n",
    "from sklearn import preprocessing\n",
    "from sklearn.model_selection import  cross_val_score\n",
    "from mpl_toolkits.mplot3d import Axes3D\n",
    "from sklearn.model_selection import GridSearchCV\n",
    "from sklearn.preprocessing import StandardScaler "
   ]
  },
  {
   "cell_type": "code",
   "execution_count": 4,
   "id": "af467903",
   "metadata": {
    "execution": {
     "iopub.execute_input": "2022-03-08T14:01:11.661036Z",
     "iopub.status.busy": "2022-03-08T14:01:11.660329Z",
     "iopub.status.idle": "2022-03-08T14:01:11.663546Z",
     "shell.execute_reply": "2022-03-08T14:01:11.662935Z",
     "shell.execute_reply.started": "2021-12-24T11:38:46.96846Z"
    },
    "papermill": {
     "duration": 0.034816,
     "end_time": "2022-03-08T14:01:11.663689",
     "exception": false,
     "start_time": "2022-03-08T14:01:11.628873",
     "status": "completed"
    },
    "tags": []
   },
   "outputs": [],
   "source": [
    "from sklearn.model_selection import learning_curve\n",
    "from sklearn.model_selection import ShuffleSplit\n",
    "from sklearn.metrics import r2_score"
   ]
  },
  {
   "cell_type": "code",
   "execution_count": 5,
   "id": "4f1bcd16",
   "metadata": {
    "execution": {
     "iopub.execute_input": "2022-03-08T14:01:11.720886Z",
     "iopub.status.busy": "2022-03-08T14:01:11.720036Z",
     "iopub.status.idle": "2022-03-08T14:01:11.763994Z",
     "shell.execute_reply": "2022-03-08T14:01:11.763394Z",
     "shell.execute_reply.started": "2021-12-24T11:38:46.985181Z"
    },
    "papermill": {
     "duration": 0.073837,
     "end_time": "2022-03-08T14:01:11.764165",
     "exception": false,
     "start_time": "2022-03-08T14:01:11.690328",
     "status": "completed"
    },
    "tags": []
   },
   "outputs": [
    {
     "data": {
      "text/plain": [
       "<bound method NDFrame.head of      Age Sex ChestPainType  RestingBP  Cholesterol  FastingBS RestingECG  \\\n",
       "0     40   M           ATA        140          289          0     Normal   \n",
       "1     49   F           NAP        160          180          0     Normal   \n",
       "2     37   M           ATA        130          283          0         ST   \n",
       "3     48   F           ASY        138          214          0     Normal   \n",
       "4     54   M           NAP        150          195          0     Normal   \n",
       "..   ...  ..           ...        ...          ...        ...        ...   \n",
       "913   45   M            TA        110          264          0     Normal   \n",
       "914   68   M           ASY        144          193          1     Normal   \n",
       "915   57   M           ASY        130          131          0     Normal   \n",
       "916   57   F           ATA        130          236          0        LVH   \n",
       "917   38   M           NAP        138          175          0     Normal   \n",
       "\n",
       "     MaxHR ExerciseAngina  Oldpeak ST_Slope  HeartDisease  \n",
       "0      172              N      0.0       Up             0  \n",
       "1      156              N      1.0     Flat             1  \n",
       "2       98              N      0.0       Up             0  \n",
       "3      108              Y      1.5     Flat             1  \n",
       "4      122              N      0.0       Up             0  \n",
       "..     ...            ...      ...      ...           ...  \n",
       "913    132              N      1.2     Flat             1  \n",
       "914    141              N      3.4     Flat             1  \n",
       "915    115              Y      1.2     Flat             1  \n",
       "916    174              N      0.0     Flat             1  \n",
       "917    173              N      0.0       Up             0  \n",
       "\n",
       "[918 rows x 12 columns]>"
      ]
     },
     "execution_count": 5,
     "metadata": {},
     "output_type": "execute_result"
    }
   ],
   "source": [
    "df=pd.read_csv(\"../input/heart-failure-prediction/heart.csv\")\n",
    "df.head"
   ]
  },
  {
   "cell_type": "code",
   "execution_count": 6,
   "id": "2f5f69af",
   "metadata": {
    "execution": {
     "iopub.execute_input": "2022-03-08T14:01:11.837147Z",
     "iopub.status.busy": "2022-03-08T14:01:11.836051Z",
     "iopub.status.idle": "2022-03-08T14:01:11.855590Z",
     "shell.execute_reply": "2022-03-08T14:01:11.856073Z",
     "shell.execute_reply.started": "2021-12-24T11:38:47.016814Z"
    },
    "papermill": {
     "duration": 0.064524,
     "end_time": "2022-03-08T14:01:11.856257",
     "exception": false,
     "start_time": "2022-03-08T14:01:11.791733",
     "status": "completed"
    },
    "tags": []
   },
   "outputs": [
    {
     "data": {
      "text/html": [
       "<div>\n",
       "<style scoped>\n",
       "    .dataframe tbody tr th:only-of-type {\n",
       "        vertical-align: middle;\n",
       "    }\n",
       "\n",
       "    .dataframe tbody tr th {\n",
       "        vertical-align: top;\n",
       "    }\n",
       "\n",
       "    .dataframe thead th {\n",
       "        text-align: right;\n",
       "    }\n",
       "</style>\n",
       "<table border=\"1\" class=\"dataframe\">\n",
       "  <thead>\n",
       "    <tr style=\"text-align: right;\">\n",
       "      <th></th>\n",
       "      <th>Sex_F</th>\n",
       "      <th>Sex_M</th>\n",
       "      <th>ChestPainType_ASY</th>\n",
       "      <th>ChestPainType_ATA</th>\n",
       "      <th>ChestPainType_NAP</th>\n",
       "      <th>ChestPainType_TA</th>\n",
       "      <th>RestingECG_LVH</th>\n",
       "      <th>RestingECG_Normal</th>\n",
       "      <th>RestingECG_ST</th>\n",
       "      <th>ExerciseAngina_N</th>\n",
       "      <th>ExerciseAngina_Y</th>\n",
       "      <th>ST_Slope_Down</th>\n",
       "      <th>ST_Slope_Flat</th>\n",
       "      <th>ST_Slope_Up</th>\n",
       "    </tr>\n",
       "  </thead>\n",
       "  <tbody>\n",
       "    <tr>\n",
       "      <th>0</th>\n",
       "      <td>0</td>\n",
       "      <td>1</td>\n",
       "      <td>0</td>\n",
       "      <td>1</td>\n",
       "      <td>0</td>\n",
       "      <td>0</td>\n",
       "      <td>0</td>\n",
       "      <td>1</td>\n",
       "      <td>0</td>\n",
       "      <td>1</td>\n",
       "      <td>0</td>\n",
       "      <td>0</td>\n",
       "      <td>0</td>\n",
       "      <td>1</td>\n",
       "    </tr>\n",
       "    <tr>\n",
       "      <th>1</th>\n",
       "      <td>1</td>\n",
       "      <td>0</td>\n",
       "      <td>0</td>\n",
       "      <td>0</td>\n",
       "      <td>1</td>\n",
       "      <td>0</td>\n",
       "      <td>0</td>\n",
       "      <td>1</td>\n",
       "      <td>0</td>\n",
       "      <td>1</td>\n",
       "      <td>0</td>\n",
       "      <td>0</td>\n",
       "      <td>1</td>\n",
       "      <td>0</td>\n",
       "    </tr>\n",
       "    <tr>\n",
       "      <th>2</th>\n",
       "      <td>0</td>\n",
       "      <td>1</td>\n",
       "      <td>0</td>\n",
       "      <td>1</td>\n",
       "      <td>0</td>\n",
       "      <td>0</td>\n",
       "      <td>0</td>\n",
       "      <td>0</td>\n",
       "      <td>1</td>\n",
       "      <td>1</td>\n",
       "      <td>0</td>\n",
       "      <td>0</td>\n",
       "      <td>0</td>\n",
       "      <td>1</td>\n",
       "    </tr>\n",
       "    <tr>\n",
       "      <th>3</th>\n",
       "      <td>1</td>\n",
       "      <td>0</td>\n",
       "      <td>1</td>\n",
       "      <td>0</td>\n",
       "      <td>0</td>\n",
       "      <td>0</td>\n",
       "      <td>0</td>\n",
       "      <td>1</td>\n",
       "      <td>0</td>\n",
       "      <td>0</td>\n",
       "      <td>1</td>\n",
       "      <td>0</td>\n",
       "      <td>1</td>\n",
       "      <td>0</td>\n",
       "    </tr>\n",
       "    <tr>\n",
       "      <th>4</th>\n",
       "      <td>0</td>\n",
       "      <td>1</td>\n",
       "      <td>0</td>\n",
       "      <td>0</td>\n",
       "      <td>1</td>\n",
       "      <td>0</td>\n",
       "      <td>0</td>\n",
       "      <td>1</td>\n",
       "      <td>0</td>\n",
       "      <td>1</td>\n",
       "      <td>0</td>\n",
       "      <td>0</td>\n",
       "      <td>0</td>\n",
       "      <td>1</td>\n",
       "    </tr>\n",
       "  </tbody>\n",
       "</table>\n",
       "</div>"
      ],
      "text/plain": [
       "   Sex_F  Sex_M  ChestPainType_ASY  ChestPainType_ATA  ChestPainType_NAP  \\\n",
       "0      0      1                  0                  1                  0   \n",
       "1      1      0                  0                  0                  1   \n",
       "2      0      1                  0                  1                  0   \n",
       "3      1      0                  1                  0                  0   \n",
       "4      0      1                  0                  0                  1   \n",
       "\n",
       "   ChestPainType_TA  RestingECG_LVH  RestingECG_Normal  RestingECG_ST  \\\n",
       "0                 0               0                  1              0   \n",
       "1                 0               0                  1              0   \n",
       "2                 0               0                  0              1   \n",
       "3                 0               0                  1              0   \n",
       "4                 0               0                  1              0   \n",
       "\n",
       "   ExerciseAngina_N  ExerciseAngina_Y  ST_Slope_Down  ST_Slope_Flat  \\\n",
       "0                 1                 0              0              0   \n",
       "1                 1                 0              0              1   \n",
       "2                 1                 0              0              0   \n",
       "3                 0                 1              0              1   \n",
       "4                 1                 0              0              0   \n",
       "\n",
       "   ST_Slope_Up  \n",
       "0            1  \n",
       "1            0  \n",
       "2            1  \n",
       "3            0  \n",
       "4            1  "
      ]
     },
     "execution_count": 6,
     "metadata": {},
     "output_type": "execute_result"
    }
   ],
   "source": [
    "dummy_set = ['Sex','ChestPainType','RestingECG','ExerciseAngina','ST_Slope']\n",
    "df_dummies = pd.get_dummies(df[dummy_set])\n",
    "df_dummies.head()"
   ]
  },
  {
   "cell_type": "code",
   "execution_count": 7,
   "id": "e0796f9a",
   "metadata": {
    "execution": {
     "iopub.execute_input": "2022-03-08T14:01:11.934123Z",
     "iopub.status.busy": "2022-03-08T14:01:11.915210Z",
     "iopub.status.idle": "2022-03-08T14:01:11.938002Z",
     "shell.execute_reply": "2022-03-08T14:01:11.937383Z",
     "shell.execute_reply.started": "2021-12-24T11:38:47.0432Z"
    },
    "papermill": {
     "duration": 0.054111,
     "end_time": "2022-03-08T14:01:11.938144",
     "exception": false,
     "start_time": "2022-03-08T14:01:11.884033",
     "status": "completed"
    },
    "tags": []
   },
   "outputs": [
    {
     "data": {
      "text/html": [
       "<div>\n",
       "<style scoped>\n",
       "    .dataframe tbody tr th:only-of-type {\n",
       "        vertical-align: middle;\n",
       "    }\n",
       "\n",
       "    .dataframe tbody tr th {\n",
       "        vertical-align: top;\n",
       "    }\n",
       "\n",
       "    .dataframe thead th {\n",
       "        text-align: right;\n",
       "    }\n",
       "</style>\n",
       "<table border=\"1\" class=\"dataframe\">\n",
       "  <thead>\n",
       "    <tr style=\"text-align: right;\">\n",
       "      <th></th>\n",
       "      <th>0</th>\n",
       "      <th>1</th>\n",
       "      <th>2</th>\n",
       "      <th>3</th>\n",
       "      <th>4</th>\n",
       "      <th>5</th>\n",
       "    </tr>\n",
       "  </thead>\n",
       "  <tbody>\n",
       "    <tr>\n",
       "      <th>0</th>\n",
       "      <td>-1.433140</td>\n",
       "      <td>0.410909</td>\n",
       "      <td>0.825070</td>\n",
       "      <td>-0.551341</td>\n",
       "      <td>1.382928</td>\n",
       "      <td>-0.832432</td>\n",
       "    </tr>\n",
       "    <tr>\n",
       "      <th>1</th>\n",
       "      <td>-0.478484</td>\n",
       "      <td>1.491752</td>\n",
       "      <td>-0.171961</td>\n",
       "      <td>-0.551341</td>\n",
       "      <td>0.754157</td>\n",
       "      <td>0.105664</td>\n",
       "    </tr>\n",
       "    <tr>\n",
       "      <th>2</th>\n",
       "      <td>-1.751359</td>\n",
       "      <td>-0.129513</td>\n",
       "      <td>0.770188</td>\n",
       "      <td>-0.551341</td>\n",
       "      <td>-1.525138</td>\n",
       "      <td>-0.832432</td>\n",
       "    </tr>\n",
       "    <tr>\n",
       "      <th>3</th>\n",
       "      <td>-0.584556</td>\n",
       "      <td>0.302825</td>\n",
       "      <td>0.139040</td>\n",
       "      <td>-0.551341</td>\n",
       "      <td>-1.132156</td>\n",
       "      <td>0.574711</td>\n",
       "    </tr>\n",
       "    <tr>\n",
       "      <th>4</th>\n",
       "      <td>0.051881</td>\n",
       "      <td>0.951331</td>\n",
       "      <td>-0.034755</td>\n",
       "      <td>-0.551341</td>\n",
       "      <td>-0.581981</td>\n",
       "      <td>-0.832432</td>\n",
       "    </tr>\n",
       "    <tr>\n",
       "      <th>...</th>\n",
       "      <td>...</td>\n",
       "      <td>...</td>\n",
       "      <td>...</td>\n",
       "      <td>...</td>\n",
       "      <td>...</td>\n",
       "      <td>...</td>\n",
       "    </tr>\n",
       "    <tr>\n",
       "      <th>913</th>\n",
       "      <td>-0.902775</td>\n",
       "      <td>-1.210356</td>\n",
       "      <td>0.596393</td>\n",
       "      <td>-0.551341</td>\n",
       "      <td>-0.188999</td>\n",
       "      <td>0.293283</td>\n",
       "    </tr>\n",
       "    <tr>\n",
       "      <th>914</th>\n",
       "      <td>1.536902</td>\n",
       "      <td>0.627078</td>\n",
       "      <td>-0.053049</td>\n",
       "      <td>1.813758</td>\n",
       "      <td>0.164684</td>\n",
       "      <td>2.357094</td>\n",
       "    </tr>\n",
       "    <tr>\n",
       "      <th>915</th>\n",
       "      <td>0.370100</td>\n",
       "      <td>-0.129513</td>\n",
       "      <td>-0.620168</td>\n",
       "      <td>-0.551341</td>\n",
       "      <td>-0.857069</td>\n",
       "      <td>0.293283</td>\n",
       "    </tr>\n",
       "    <tr>\n",
       "      <th>916</th>\n",
       "      <td>0.370100</td>\n",
       "      <td>-0.129513</td>\n",
       "      <td>0.340275</td>\n",
       "      <td>-0.551341</td>\n",
       "      <td>1.461525</td>\n",
       "      <td>-0.832432</td>\n",
       "    </tr>\n",
       "    <tr>\n",
       "      <th>917</th>\n",
       "      <td>-1.645286</td>\n",
       "      <td>0.302825</td>\n",
       "      <td>-0.217696</td>\n",
       "      <td>-0.551341</td>\n",
       "      <td>1.422226</td>\n",
       "      <td>-0.832432</td>\n",
       "    </tr>\n",
       "  </tbody>\n",
       "</table>\n",
       "<p>918 rows × 6 columns</p>\n",
       "</div>"
      ],
      "text/plain": [
       "            0         1         2         3         4         5\n",
       "0   -1.433140  0.410909  0.825070 -0.551341  1.382928 -0.832432\n",
       "1   -0.478484  1.491752 -0.171961 -0.551341  0.754157  0.105664\n",
       "2   -1.751359 -0.129513  0.770188 -0.551341 -1.525138 -0.832432\n",
       "3   -0.584556  0.302825  0.139040 -0.551341 -1.132156  0.574711\n",
       "4    0.051881  0.951331 -0.034755 -0.551341 -0.581981 -0.832432\n",
       "..        ...       ...       ...       ...       ...       ...\n",
       "913 -0.902775 -1.210356  0.596393 -0.551341 -0.188999  0.293283\n",
       "914  1.536902  0.627078 -0.053049  1.813758  0.164684  2.357094\n",
       "915  0.370100 -0.129513 -0.620168 -0.551341 -0.857069  0.293283\n",
       "916  0.370100 -0.129513  0.340275 -0.551341  1.461525 -0.832432\n",
       "917 -1.645286  0.302825 -0.217696 -0.551341  1.422226 -0.832432\n",
       "\n",
       "[918 rows x 6 columns]"
      ]
     },
     "execution_count": 7,
     "metadata": {},
     "output_type": "execute_result"
    }
   ],
   "source": [
    "from sklearn.preprocessing import StandardScaler \n",
    "num_set = ['Age','RestingBP','Cholesterol','FastingBS','MaxHR','Oldpeak']\n",
    "scaler = StandardScaler()\n",
    "df_StS = scaler.fit_transform(df[num_set])\n",
    "df_sts = pd.DataFrame(df_StS)\n",
    "df_sts"
   ]
  },
  {
   "cell_type": "code",
   "execution_count": 8,
   "id": "3d73b75f",
   "metadata": {
    "execution": {
     "iopub.execute_input": "2022-03-08T14:01:12.005648Z",
     "iopub.status.busy": "2022-03-08T14:01:12.004409Z",
     "iopub.status.idle": "2022-03-08T14:01:12.007839Z",
     "shell.execute_reply": "2022-03-08T14:01:12.007170Z",
     "shell.execute_reply.started": "2021-12-24T11:38:47.070377Z"
    },
    "papermill": {
     "duration": 0.040397,
     "end_time": "2022-03-08T14:01:12.007985",
     "exception": false,
     "start_time": "2022-03-08T14:01:11.967588",
     "status": "completed"
    },
    "tags": []
   },
   "outputs": [],
   "source": [
    "def cap_feature(fea):\n",
    "  ql = df[fea].quantile(0.25) - 1.5 * (df[fea].quantile(0.75) - df[fea].quantile(0.25))\n",
    "  qu = df[fea].quantile(0.25) + 1.5 * (df[fea].quantile(0.75) - df[fea].quantile(0.25))\n",
    "\n",
    "  df[fea] = np.where(df[fea] > qu, qu, np.where(df[fea] < ql, ql, df[fea]))"
   ]
  },
  {
   "cell_type": "code",
   "execution_count": 9,
   "id": "ea04ddc1",
   "metadata": {
    "execution": {
     "iopub.execute_input": "2022-03-08T14:01:12.072245Z",
     "iopub.status.busy": "2022-03-08T14:01:12.071570Z",
     "iopub.status.idle": "2022-03-08T14:01:12.114121Z",
     "shell.execute_reply": "2022-03-08T14:01:12.114649Z",
     "shell.execute_reply.started": "2021-12-24T11:38:47.07944Z"
    },
    "papermill": {
     "duration": 0.078528,
     "end_time": "2022-03-08T14:01:12.114839",
     "exception": false,
     "start_time": "2022-03-08T14:01:12.036311",
     "status": "completed"
    },
    "tags": []
   },
   "outputs": [
    {
     "data": {
      "text/html": [
       "<div>\n",
       "<style scoped>\n",
       "    .dataframe tbody tr th:only-of-type {\n",
       "        vertical-align: middle;\n",
       "    }\n",
       "\n",
       "    .dataframe tbody tr th {\n",
       "        vertical-align: top;\n",
       "    }\n",
       "\n",
       "    .dataframe thead th {\n",
       "        text-align: right;\n",
       "    }\n",
       "</style>\n",
       "<table border=\"1\" class=\"dataframe\">\n",
       "  <thead>\n",
       "    <tr style=\"text-align: right;\">\n",
       "      <th></th>\n",
       "      <th>Age</th>\n",
       "      <th>RestingBP</th>\n",
       "      <th>Cholesterol</th>\n",
       "      <th>FastingBS</th>\n",
       "      <th>MaxHR</th>\n",
       "      <th>Oldpeak</th>\n",
       "      <th>Sex_F</th>\n",
       "      <th>Sex_M</th>\n",
       "      <th>ChestPainType_ASY</th>\n",
       "      <th>ChestPainType_ATA</th>\n",
       "      <th>ChestPainType_NAP</th>\n",
       "      <th>ChestPainType_TA</th>\n",
       "      <th>RestingECG_LVH</th>\n",
       "      <th>RestingECG_Normal</th>\n",
       "      <th>RestingECG_ST</th>\n",
       "      <th>ExerciseAngina_N</th>\n",
       "      <th>ExerciseAngina_Y</th>\n",
       "      <th>ST_Slope_Down</th>\n",
       "      <th>ST_Slope_Flat</th>\n",
       "      <th>ST_Slope_Up</th>\n",
       "    </tr>\n",
       "  </thead>\n",
       "  <tbody>\n",
       "    <tr>\n",
       "      <th>0</th>\n",
       "      <td>-1.433140</td>\n",
       "      <td>0.660474</td>\n",
       "      <td>0.964714</td>\n",
       "      <td>-0.551341</td>\n",
       "      <td>1.453478</td>\n",
       "      <td>-0.914688</td>\n",
       "      <td>0</td>\n",
       "      <td>1</td>\n",
       "      <td>0</td>\n",
       "      <td>1</td>\n",
       "      <td>0</td>\n",
       "      <td>0</td>\n",
       "      <td>0</td>\n",
       "      <td>1</td>\n",
       "      <td>0</td>\n",
       "      <td>1</td>\n",
       "      <td>0</td>\n",
       "      <td>0</td>\n",
       "      <td>0</td>\n",
       "      <td>1</td>\n",
       "    </tr>\n",
       "    <tr>\n",
       "      <th>1</th>\n",
       "      <td>-0.478484</td>\n",
       "      <td>1.358752</td>\n",
       "      <td>-0.230068</td>\n",
       "      <td>-0.551341</td>\n",
       "      <td>0.801749</td>\n",
       "      <td>0.227583</td>\n",
       "      <td>1</td>\n",
       "      <td>0</td>\n",
       "      <td>0</td>\n",
       "      <td>0</td>\n",
       "      <td>1</td>\n",
       "      <td>0</td>\n",
       "      <td>0</td>\n",
       "      <td>1</td>\n",
       "      <td>0</td>\n",
       "      <td>1</td>\n",
       "      <td>0</td>\n",
       "      <td>0</td>\n",
       "      <td>1</td>\n",
       "      <td>0</td>\n",
       "    </tr>\n",
       "    <tr>\n",
       "      <th>2</th>\n",
       "      <td>-1.751359</td>\n",
       "      <td>-0.037804</td>\n",
       "      <td>0.898946</td>\n",
       "      <td>-0.551341</td>\n",
       "      <td>-1.560768</td>\n",
       "      <td>-0.914688</td>\n",
       "      <td>0</td>\n",
       "      <td>1</td>\n",
       "      <td>0</td>\n",
       "      <td>1</td>\n",
       "      <td>0</td>\n",
       "      <td>0</td>\n",
       "      <td>0</td>\n",
       "      <td>0</td>\n",
       "      <td>1</td>\n",
       "      <td>1</td>\n",
       "      <td>0</td>\n",
       "      <td>0</td>\n",
       "      <td>0</td>\n",
       "      <td>1</td>\n",
       "    </tr>\n",
       "    <tr>\n",
       "      <th>3</th>\n",
       "      <td>-0.584556</td>\n",
       "      <td>0.520818</td>\n",
       "      <td>0.142616</td>\n",
       "      <td>-0.551341</td>\n",
       "      <td>-1.153438</td>\n",
       "      <td>0.798719</td>\n",
       "      <td>1</td>\n",
       "      <td>0</td>\n",
       "      <td>1</td>\n",
       "      <td>0</td>\n",
       "      <td>0</td>\n",
       "      <td>0</td>\n",
       "      <td>0</td>\n",
       "      <td>1</td>\n",
       "      <td>0</td>\n",
       "      <td>0</td>\n",
       "      <td>1</td>\n",
       "      <td>0</td>\n",
       "      <td>1</td>\n",
       "      <td>0</td>\n",
       "    </tr>\n",
       "    <tr>\n",
       "      <th>4</th>\n",
       "      <td>0.051881</td>\n",
       "      <td>1.358752</td>\n",
       "      <td>-0.065648</td>\n",
       "      <td>-0.551341</td>\n",
       "      <td>-0.583175</td>\n",
       "      <td>-0.914688</td>\n",
       "      <td>0</td>\n",
       "      <td>1</td>\n",
       "      <td>0</td>\n",
       "      <td>0</td>\n",
       "      <td>1</td>\n",
       "      <td>0</td>\n",
       "      <td>0</td>\n",
       "      <td>1</td>\n",
       "      <td>0</td>\n",
       "      <td>1</td>\n",
       "      <td>0</td>\n",
       "      <td>0</td>\n",
       "      <td>0</td>\n",
       "      <td>1</td>\n",
       "    </tr>\n",
       "  </tbody>\n",
       "</table>\n",
       "</div>"
      ],
      "text/plain": [
       "        Age  RestingBP  Cholesterol  FastingBS     MaxHR   Oldpeak  Sex_F  \\\n",
       "0 -1.433140   0.660474     0.964714  -0.551341  1.453478 -0.914688      0   \n",
       "1 -0.478484   1.358752    -0.230068  -0.551341  0.801749  0.227583      1   \n",
       "2 -1.751359  -0.037804     0.898946  -0.551341 -1.560768 -0.914688      0   \n",
       "3 -0.584556   0.520818     0.142616  -0.551341 -1.153438  0.798719      1   \n",
       "4  0.051881   1.358752    -0.065648  -0.551341 -0.583175 -0.914688      0   \n",
       "\n",
       "   Sex_M  ChestPainType_ASY  ChestPainType_ATA  ChestPainType_NAP  \\\n",
       "0      1                  0                  1                  0   \n",
       "1      0                  0                  0                  1   \n",
       "2      1                  0                  1                  0   \n",
       "3      0                  1                  0                  0   \n",
       "4      1                  0                  0                  1   \n",
       "\n",
       "   ChestPainType_TA  RestingECG_LVH  RestingECG_Normal  RestingECG_ST  \\\n",
       "0                 0               0                  1              0   \n",
       "1                 0               0                  1              0   \n",
       "2                 0               0                  0              1   \n",
       "3                 0               0                  1              0   \n",
       "4                 0               0                  1              0   \n",
       "\n",
       "   ExerciseAngina_N  ExerciseAngina_Y  ST_Slope_Down  ST_Slope_Flat  \\\n",
       "0                 1                 0              0              0   \n",
       "1                 1                 0              0              1   \n",
       "2                 1                 0              0              0   \n",
       "3                 0                 1              0              1   \n",
       "4                 1                 0              0              0   \n",
       "\n",
       "   ST_Slope_Up  \n",
       "0            1  \n",
       "1            0  \n",
       "2            1  \n",
       "3            0  \n",
       "4            1  "
      ]
     },
     "execution_count": 9,
     "metadata": {},
     "output_type": "execute_result"
    }
   ],
   "source": [
    "from sklearn.preprocessing import StandardScaler \n",
    "num_set = ['Age','RestingBP','Cholesterol','FastingBS','MaxHR','Oldpeak']\n",
    "\n",
    "cap_feature(\"RestingBP\")\n",
    "cap_feature(\"Cholesterol\")\n",
    "cap_feature(\"MaxHR\")\n",
    "cap_feature(\"Oldpeak\")\n",
    "\n",
    "scaler = StandardScaler()\n",
    "df_StS = scaler.fit_transform(df[num_set])\n",
    "df_sts = pd.DataFrame(df_StS)\n",
    "df_sts.columns = num_set\n",
    "\n",
    "df_trans = pd.concat([df_sts,df_dummies],axis=1)\n",
    "df_trans.head()"
   ]
  },
  {
   "cell_type": "code",
   "execution_count": 10,
   "id": "fb78fea8",
   "metadata": {
    "execution": {
     "iopub.execute_input": "2022-03-08T14:01:12.176506Z",
     "iopub.status.busy": "2022-03-08T14:01:12.175858Z",
     "iopub.status.idle": "2022-03-08T14:01:12.185153Z",
     "shell.execute_reply": "2022-03-08T14:01:12.185634Z",
     "shell.execute_reply.started": "2021-12-24T11:38:47.136914Z"
    },
    "papermill": {
     "duration": 0.04115,
     "end_time": "2022-03-08T14:01:12.185817",
     "exception": false,
     "start_time": "2022-03-08T14:01:12.144667",
     "status": "completed"
    },
    "tags": []
   },
   "outputs": [
    {
     "name": "stdout",
     "output_type": "stream",
     "text": [
      "X_train shape: (734, 20) X_test shape: (184, 20) y_train shape: (734,) y_test shape: (184,)\n"
     ]
    }
   ],
   "source": [
    "X_train,X_test,y_train,y_test = train_test_split(df_trans, df['HeartDisease'], test_size = 0.2, random_state = 1000)\n",
    "\n",
    "print(\"X_train shape:\", X_train.shape, \"X_test shape:\", X_test.shape,\"y_train shape:\", y_train.shape,\"y_test shape:\", y_test.shape)"
   ]
  },
  {
   "cell_type": "code",
   "execution_count": 11,
   "id": "ea8bf03a",
   "metadata": {
    "execution": {
     "iopub.execute_input": "2022-03-08T14:01:12.246961Z",
     "iopub.status.busy": "2022-03-08T14:01:12.246259Z",
     "iopub.status.idle": "2022-03-08T14:01:12.269219Z",
     "shell.execute_reply": "2022-03-08T14:01:12.269724Z",
     "shell.execute_reply.started": "2021-12-24T11:38:47.148421Z"
    },
    "papermill": {
     "duration": 0.055246,
     "end_time": "2022-03-08T14:01:12.269892",
     "exception": false,
     "start_time": "2022-03-08T14:01:12.214646",
     "status": "completed"
    },
    "tags": []
   },
   "outputs": [
    {
     "data": {
      "text/html": [
       "<div>\n",
       "<style scoped>\n",
       "    .dataframe tbody tr th:only-of-type {\n",
       "        vertical-align: middle;\n",
       "    }\n",
       "\n",
       "    .dataframe tbody tr th {\n",
       "        vertical-align: top;\n",
       "    }\n",
       "\n",
       "    .dataframe thead th {\n",
       "        text-align: right;\n",
       "    }\n",
       "</style>\n",
       "<table border=\"1\" class=\"dataframe\">\n",
       "  <thead>\n",
       "    <tr style=\"text-align: right;\">\n",
       "      <th></th>\n",
       "      <th>Age</th>\n",
       "      <th>RestingBP</th>\n",
       "      <th>Cholesterol</th>\n",
       "      <th>FastingBS</th>\n",
       "      <th>MaxHR</th>\n",
       "      <th>Oldpeak</th>\n",
       "      <th>Sex_F</th>\n",
       "      <th>Sex_M</th>\n",
       "      <th>ChestPainType_ASY</th>\n",
       "      <th>ChestPainType_ATA</th>\n",
       "      <th>ChestPainType_NAP</th>\n",
       "      <th>ChestPainType_TA</th>\n",
       "      <th>RestingECG_LVH</th>\n",
       "      <th>RestingECG_Normal</th>\n",
       "      <th>RestingECG_ST</th>\n",
       "      <th>ExerciseAngina_N</th>\n",
       "      <th>ExerciseAngina_Y</th>\n",
       "      <th>ST_Slope_Down</th>\n",
       "      <th>ST_Slope_Flat</th>\n",
       "      <th>ST_Slope_Up</th>\n",
       "    </tr>\n",
       "  </thead>\n",
       "  <tbody>\n",
       "    <tr>\n",
       "      <th>291</th>\n",
       "      <td>-0.690629</td>\n",
       "      <td>0.660474</td>\n",
       "      <td>0.613953</td>\n",
       "      <td>-0.551341</td>\n",
       "      <td>-0.053645</td>\n",
       "      <td>0.227583</td>\n",
       "      <td>1</td>\n",
       "      <td>0</td>\n",
       "      <td>0</td>\n",
       "      <td>1</td>\n",
       "      <td>0</td>\n",
       "      <td>0</td>\n",
       "      <td>0</td>\n",
       "      <td>1</td>\n",
       "      <td>0</td>\n",
       "      <td>1</td>\n",
       "      <td>0</td>\n",
       "      <td>0</td>\n",
       "      <td>0</td>\n",
       "      <td>1</td>\n",
       "    </tr>\n",
       "    <tr>\n",
       "      <th>139</th>\n",
       "      <td>-1.114921</td>\n",
       "      <td>1.358752</td>\n",
       "      <td>0.504339</td>\n",
       "      <td>-0.551341</td>\n",
       "      <td>-0.257310</td>\n",
       "      <td>1.369855</td>\n",
       "      <td>0</td>\n",
       "      <td>1</td>\n",
       "      <td>1</td>\n",
       "      <td>0</td>\n",
       "      <td>0</td>\n",
       "      <td>0</td>\n",
       "      <td>0</td>\n",
       "      <td>1</td>\n",
       "      <td>0</td>\n",
       "      <td>0</td>\n",
       "      <td>1</td>\n",
       "      <td>0</td>\n",
       "      <td>1</td>\n",
       "      <td>0</td>\n",
       "    </tr>\n",
       "    <tr>\n",
       "      <th>536</th>\n",
       "      <td>0.900464</td>\n",
       "      <td>0.171679</td>\n",
       "      <td>-1.845490</td>\n",
       "      <td>1.813758</td>\n",
       "      <td>-0.705374</td>\n",
       "      <td>0.456038</td>\n",
       "      <td>0</td>\n",
       "      <td>1</td>\n",
       "      <td>0</td>\n",
       "      <td>0</td>\n",
       "      <td>1</td>\n",
       "      <td>0</td>\n",
       "      <td>0</td>\n",
       "      <td>0</td>\n",
       "      <td>1</td>\n",
       "      <td>0</td>\n",
       "      <td>1</td>\n",
       "      <td>0</td>\n",
       "      <td>1</td>\n",
       "      <td>0</td>\n",
       "    </tr>\n",
       "    <tr>\n",
       "      <th>710</th>\n",
       "      <td>-0.690629</td>\n",
       "      <td>-1.434361</td>\n",
       "      <td>0.811256</td>\n",
       "      <td>-0.551341</td>\n",
       "      <td>-0.746107</td>\n",
       "      <td>0.227583</td>\n",
       "      <td>0</td>\n",
       "      <td>1</td>\n",
       "      <td>1</td>\n",
       "      <td>0</td>\n",
       "      <td>0</td>\n",
       "      <td>0</td>\n",
       "      <td>1</td>\n",
       "      <td>0</td>\n",
       "      <td>0</td>\n",
       "      <td>0</td>\n",
       "      <td>1</td>\n",
       "      <td>0</td>\n",
       "      <td>1</td>\n",
       "      <td>0</td>\n",
       "    </tr>\n",
       "    <tr>\n",
       "      <th>336</th>\n",
       "      <td>1.961193</td>\n",
       "      <td>1.358752</td>\n",
       "      <td>-1.845490</td>\n",
       "      <td>-0.551341</td>\n",
       "      <td>-0.909039</td>\n",
       "      <td>0.912946</td>\n",
       "      <td>0</td>\n",
       "      <td>1</td>\n",
       "      <td>0</td>\n",
       "      <td>0</td>\n",
       "      <td>1</td>\n",
       "      <td>0</td>\n",
       "      <td>1</td>\n",
       "      <td>0</td>\n",
       "      <td>0</td>\n",
       "      <td>1</td>\n",
       "      <td>0</td>\n",
       "      <td>0</td>\n",
       "      <td>1</td>\n",
       "      <td>0</td>\n",
       "    </tr>\n",
       "    <tr>\n",
       "      <th>...</th>\n",
       "      <td>...</td>\n",
       "      <td>...</td>\n",
       "      <td>...</td>\n",
       "      <td>...</td>\n",
       "      <td>...</td>\n",
       "      <td>...</td>\n",
       "      <td>...</td>\n",
       "      <td>...</td>\n",
       "      <td>...</td>\n",
       "      <td>...</td>\n",
       "      <td>...</td>\n",
       "      <td>...</td>\n",
       "      <td>...</td>\n",
       "      <td>...</td>\n",
       "      <td>...</td>\n",
       "      <td>...</td>\n",
       "      <td>...</td>\n",
       "      <td>...</td>\n",
       "      <td>...</td>\n",
       "      <td>...</td>\n",
       "    </tr>\n",
       "    <tr>\n",
       "      <th>251</th>\n",
       "      <td>-0.584556</td>\n",
       "      <td>-0.736083</td>\n",
       "      <td>0.646836</td>\n",
       "      <td>-0.551341</td>\n",
       "      <td>-0.868306</td>\n",
       "      <td>1.369855</td>\n",
       "      <td>0</td>\n",
       "      <td>1</td>\n",
       "      <td>1</td>\n",
       "      <td>0</td>\n",
       "      <td>0</td>\n",
       "      <td>0</td>\n",
       "      <td>0</td>\n",
       "      <td>1</td>\n",
       "      <td>0</td>\n",
       "      <td>1</td>\n",
       "      <td>0</td>\n",
       "      <td>0</td>\n",
       "      <td>1</td>\n",
       "      <td>0</td>\n",
       "    </tr>\n",
       "    <tr>\n",
       "      <th>704</th>\n",
       "      <td>-0.372411</td>\n",
       "      <td>1.358752</td>\n",
       "      <td>0.460494</td>\n",
       "      <td>-0.551341</td>\n",
       "      <td>-0.338777</td>\n",
       "      <td>1.655423</td>\n",
       "      <td>0</td>\n",
       "      <td>1</td>\n",
       "      <td>1</td>\n",
       "      <td>0</td>\n",
       "      <td>0</td>\n",
       "      <td>0</td>\n",
       "      <td>1</td>\n",
       "      <td>0</td>\n",
       "      <td>0</td>\n",
       "      <td>1</td>\n",
       "      <td>0</td>\n",
       "      <td>0</td>\n",
       "      <td>1</td>\n",
       "      <td>0</td>\n",
       "    </tr>\n",
       "    <tr>\n",
       "      <th>71</th>\n",
       "      <td>-1.008848</td>\n",
       "      <td>-0.037804</td>\n",
       "      <td>0.153578</td>\n",
       "      <td>-0.551341</td>\n",
       "      <td>-0.053645</td>\n",
       "      <td>-0.914688</td>\n",
       "      <td>0</td>\n",
       "      <td>1</td>\n",
       "      <td>0</td>\n",
       "      <td>1</td>\n",
       "      <td>0</td>\n",
       "      <td>0</td>\n",
       "      <td>0</td>\n",
       "      <td>1</td>\n",
       "      <td>0</td>\n",
       "      <td>1</td>\n",
       "      <td>0</td>\n",
       "      <td>0</td>\n",
       "      <td>0</td>\n",
       "      <td>1</td>\n",
       "    </tr>\n",
       "    <tr>\n",
       "      <th>599</th>\n",
       "      <td>0.264027</td>\n",
       "      <td>-0.037804</td>\n",
       "      <td>0.022042</td>\n",
       "      <td>1.813758</td>\n",
       "      <td>-1.560768</td>\n",
       "      <td>0.798719</td>\n",
       "      <td>0</td>\n",
       "      <td>1</td>\n",
       "      <td>1</td>\n",
       "      <td>0</td>\n",
       "      <td>0</td>\n",
       "      <td>0</td>\n",
       "      <td>0</td>\n",
       "      <td>1</td>\n",
       "      <td>0</td>\n",
       "      <td>1</td>\n",
       "      <td>0</td>\n",
       "      <td>0</td>\n",
       "      <td>1</td>\n",
       "      <td>0</td>\n",
       "    </tr>\n",
       "    <tr>\n",
       "      <th>435</th>\n",
       "      <td>0.688318</td>\n",
       "      <td>1.358752</td>\n",
       "      <td>-1.845490</td>\n",
       "      <td>-0.551341</td>\n",
       "      <td>-0.746107</td>\n",
       "      <td>-0.914688</td>\n",
       "      <td>0</td>\n",
       "      <td>1</td>\n",
       "      <td>1</td>\n",
       "      <td>0</td>\n",
       "      <td>0</td>\n",
       "      <td>0</td>\n",
       "      <td>0</td>\n",
       "      <td>0</td>\n",
       "      <td>1</td>\n",
       "      <td>0</td>\n",
       "      <td>1</td>\n",
       "      <td>0</td>\n",
       "      <td>0</td>\n",
       "      <td>1</td>\n",
       "    </tr>\n",
       "  </tbody>\n",
       "</table>\n",
       "<p>734 rows × 20 columns</p>\n",
       "</div>"
      ],
      "text/plain": [
       "          Age  RestingBP  Cholesterol  FastingBS     MaxHR   Oldpeak  Sex_F  \\\n",
       "291 -0.690629   0.660474     0.613953  -0.551341 -0.053645  0.227583      1   \n",
       "139 -1.114921   1.358752     0.504339  -0.551341 -0.257310  1.369855      0   \n",
       "536  0.900464   0.171679    -1.845490   1.813758 -0.705374  0.456038      0   \n",
       "710 -0.690629  -1.434361     0.811256  -0.551341 -0.746107  0.227583      0   \n",
       "336  1.961193   1.358752    -1.845490  -0.551341 -0.909039  0.912946      0   \n",
       "..        ...        ...          ...        ...       ...       ...    ...   \n",
       "251 -0.584556  -0.736083     0.646836  -0.551341 -0.868306  1.369855      0   \n",
       "704 -0.372411   1.358752     0.460494  -0.551341 -0.338777  1.655423      0   \n",
       "71  -1.008848  -0.037804     0.153578  -0.551341 -0.053645 -0.914688      0   \n",
       "599  0.264027  -0.037804     0.022042   1.813758 -1.560768  0.798719      0   \n",
       "435  0.688318   1.358752    -1.845490  -0.551341 -0.746107 -0.914688      0   \n",
       "\n",
       "     Sex_M  ChestPainType_ASY  ChestPainType_ATA  ChestPainType_NAP  \\\n",
       "291      0                  0                  1                  0   \n",
       "139      1                  1                  0                  0   \n",
       "536      1                  0                  0                  1   \n",
       "710      1                  1                  0                  0   \n",
       "336      1                  0                  0                  1   \n",
       "..     ...                ...                ...                ...   \n",
       "251      1                  1                  0                  0   \n",
       "704      1                  1                  0                  0   \n",
       "71       1                  0                  1                  0   \n",
       "599      1                  1                  0                  0   \n",
       "435      1                  1                  0                  0   \n",
       "\n",
       "     ChestPainType_TA  RestingECG_LVH  RestingECG_Normal  RestingECG_ST  \\\n",
       "291                 0               0                  1              0   \n",
       "139                 0               0                  1              0   \n",
       "536                 0               0                  0              1   \n",
       "710                 0               1                  0              0   \n",
       "336                 0               1                  0              0   \n",
       "..                ...             ...                ...            ...   \n",
       "251                 0               0                  1              0   \n",
       "704                 0               1                  0              0   \n",
       "71                  0               0                  1              0   \n",
       "599                 0               0                  1              0   \n",
       "435                 0               0                  0              1   \n",
       "\n",
       "     ExerciseAngina_N  ExerciseAngina_Y  ST_Slope_Down  ST_Slope_Flat  \\\n",
       "291                 1                 0              0              0   \n",
       "139                 0                 1              0              1   \n",
       "536                 0                 1              0              1   \n",
       "710                 0                 1              0              1   \n",
       "336                 1                 0              0              1   \n",
       "..                ...               ...            ...            ...   \n",
       "251                 1                 0              0              1   \n",
       "704                 1                 0              0              1   \n",
       "71                  1                 0              0              0   \n",
       "599                 1                 0              0              1   \n",
       "435                 0                 1              0              0   \n",
       "\n",
       "     ST_Slope_Up  \n",
       "291            1  \n",
       "139            0  \n",
       "536            0  \n",
       "710            0  \n",
       "336            0  \n",
       "..           ...  \n",
       "251            0  \n",
       "704            0  \n",
       "71             1  \n",
       "599            0  \n",
       "435            1  \n",
       "\n",
       "[734 rows x 20 columns]"
      ]
     },
     "execution_count": 11,
     "metadata": {},
     "output_type": "execute_result"
    }
   ],
   "source": [
    "X_train"
   ]
  },
  {
   "cell_type": "code",
   "execution_count": 12,
   "id": "40260d84",
   "metadata": {
    "execution": {
     "iopub.execute_input": "2022-03-08T14:01:12.332738Z",
     "iopub.status.busy": "2022-03-08T14:01:12.332094Z",
     "iopub.status.idle": "2022-03-08T14:01:12.337419Z",
     "shell.execute_reply": "2022-03-08T14:01:12.336759Z",
     "shell.execute_reply.started": "2021-12-24T11:38:47.176528Z"
    },
    "papermill": {
     "duration": 0.037696,
     "end_time": "2022-03-08T14:01:12.337576",
     "exception": false,
     "start_time": "2022-03-08T14:01:12.299880",
     "status": "completed"
    },
    "tags": []
   },
   "outputs": [],
   "source": [
    "x = np.hstack([np.ones((X_train.shape[0], 1)), X_train])"
   ]
  },
  {
   "cell_type": "code",
   "execution_count": 13,
   "id": "fe10f098",
   "metadata": {
    "execution": {
     "iopub.execute_input": "2022-03-08T14:01:12.403788Z",
     "iopub.status.busy": "2022-03-08T14:01:12.402997Z",
     "iopub.status.idle": "2022-03-08T14:01:12.406110Z",
     "shell.execute_reply": "2022-03-08T14:01:12.406613Z",
     "shell.execute_reply.started": "2021-12-24T11:38:47.190515Z"
    },
    "papermill": {
     "duration": 0.039342,
     "end_time": "2022-03-08T14:01:12.406781",
     "exception": false,
     "start_time": "2022-03-08T14:01:12.367439",
     "status": "completed"
    },
    "tags": []
   },
   "outputs": [
    {
     "data": {
      "text/plain": [
       "((734, 20), (734,))"
      ]
     },
     "execution_count": 13,
     "metadata": {},
     "output_type": "execute_result"
    }
   ],
   "source": [
    "X_train.shape,y_train.shape"
   ]
  },
  {
   "cell_type": "markdown",
   "id": "b27eaa3c",
   "metadata": {
    "papermill": {
     "duration": 0.029963,
     "end_time": "2022-03-08T14:01:12.466981",
     "exception": false,
     "start_time": "2022-03-08T14:01:12.437018",
     "status": "completed"
    },
    "tags": []
   },
   "source": [
    "## Learning curve"
   ]
  },
  {
   "cell_type": "code",
   "execution_count": 14,
   "id": "957b61c2",
   "metadata": {
    "execution": {
     "iopub.execute_input": "2022-03-08T14:01:12.531391Z",
     "iopub.status.busy": "2022-03-08T14:01:12.530370Z",
     "iopub.status.idle": "2022-03-08T14:01:12.540831Z",
     "shell.execute_reply": "2022-03-08T14:01:12.541291Z",
     "shell.execute_reply.started": "2021-12-24T11:38:47.204209Z"
    },
    "papermill": {
     "duration": 0.044159,
     "end_time": "2022-03-08T14:01:12.541466",
     "exception": false,
     "start_time": "2022-03-08T14:01:12.497307",
     "status": "completed"
    },
    "tags": []
   },
   "outputs": [],
   "source": [
    "# from https://scikit-learn.org/stable/auto_examples/model_selection/plot_learning_curve.html#sphx-glr-auto-examples-model-selection-plot-learning-curve-py]\n",
    "def plot_learning_curve(estimator, title, X, y, ylim=None, cv=None,\n",
    "                        n_jobs=1, train_sizes=np.linspace(.1, 1.0, 5)):\n",
    "\n",
    "    plt.figure()\n",
    "    plt.title(title)\n",
    "    if ylim is not None:\n",
    "        plt.ylim(*ylim)\n",
    "    plt.xlabel(\"Training examples\")\n",
    "    plt.ylabel(\"Score\")\n",
    "    train_sizes, train_scores, test_scores = learning_curve(\n",
    "        estimator, X, y, cv=cv, n_jobs=n_jobs, train_sizes=train_sizes)\n",
    "    train_scores_mean = np.mean(train_scores, axis=1)\n",
    "    train_scores_std = np.std(train_scores, axis=1)\n",
    "    test_scores_mean = np.mean(test_scores, axis=1)\n",
    "    test_scores_std = np.std(test_scores, axis=1)\n",
    "    plt.grid()\n",
    "\n",
    "    plt.fill_between(train_sizes, train_scores_mean - train_scores_std,\n",
    "                     train_scores_mean + train_scores_std, alpha=0.1,\n",
    "                     color=\"r\")\n",
    "    plt.fill_between(train_sizes, test_scores_mean - test_scores_std,\n",
    "                     test_scores_mean + test_scores_std, alpha=0.1, \n",
    "                     color=\"g\")\n",
    "    plt.plot(train_sizes, train_scores_mean, 'o-', color=\"r\",\n",
    "             label=\"Training score\")\n",
    "    plt.plot(train_sizes, test_scores_mean, 'o-', color=\"g\",\n",
    "             label=\"Cross-validation score\")\n",
    "\n",
    "    plt.legend(loc=\"best\")\n",
    "    return plt\n"
   ]
  },
  {
   "cell_type": "code",
   "execution_count": 15,
   "id": "f82bbaf4",
   "metadata": {
    "execution": {
     "iopub.execute_input": "2022-03-08T14:01:12.608363Z",
     "iopub.status.busy": "2022-03-08T14:01:12.606908Z",
     "iopub.status.idle": "2022-03-08T14:01:22.844371Z",
     "shell.execute_reply": "2022-03-08T14:01:22.843709Z",
     "shell.execute_reply.started": "2021-12-24T11:38:47.218814Z"
    },
    "papermill": {
     "duration": 10.272903,
     "end_time": "2022-03-08T14:01:22.844555",
     "exception": false,
     "start_time": "2022-03-08T14:01:12.571652",
     "status": "completed"
    },
    "tags": []
   },
   "outputs": [
    {
     "data": {
      "image/png": "[encoded data removed]",
      "text/plain": [
       "<Figure size 432x288 with 1 Axes>"
      ]
     },
     "metadata": {
      "needs_background": "light"
     },
     "output_type": "display_data"
    },
    {
     "data": {
      "text/plain": [
       "<Figure size 1080x360 with 0 Axes>"
      ]
     },
     "metadata": {},
     "output_type": "display_data"
    }
   ],
   "source": [
    "\n",
    "lr = LogisticRegression(solver='liblinear')\n",
    "cv=ShuffleSplit(n_splits=5, test_size=0.4, random_state=0)\n",
    "plot_learning_curve(lr, lr, X_train, y_train, cv=3, ylim=(0.0, 1.01), n_jobs=16)\n",
    "plt.figure(figsize=(15,5))\n",
    "plt.show()"
   ]
  },
  {
   "cell_type": "markdown",
   "id": "fa2b6055",
   "metadata": {
    "papermill": {
     "duration": 0.032008,
     "end_time": "2022-03-08T14:01:22.908820",
     "exception": false,
     "start_time": "2022-03-08T14:01:22.876812",
     "status": "completed"
    },
    "tags": []
   },
   "source": [
    "from the graphic, we can get that the training score and validation score get converged, and  training set is always in high position, and it barely changes.So, we assumed that it might be overfitted"
   ]
  },
  {
   "cell_type": "markdown",
   "id": "985572c5",
   "metadata": {
    "papermill": {
     "duration": 0.031823,
     "end_time": "2022-03-08T14:01:22.973435",
     "exception": false,
     "start_time": "2022-03-08T14:01:22.941612",
     "status": "completed"
    },
    "tags": []
   },
   "source": [
    "## training"
   ]
  },
  {
   "cell_type": "code",
   "execution_count": 16,
   "id": "0ad6e62a",
   "metadata": {
    "execution": {
     "iopub.execute_input": "2022-03-08T14:01:23.047866Z",
     "iopub.status.busy": "2022-03-08T14:01:23.046953Z",
     "iopub.status.idle": "2022-03-08T14:01:23.050217Z",
     "shell.execute_reply": "2022-03-08T14:01:23.050838Z",
     "shell.execute_reply.started": "2021-12-24T11:38:57.164967Z"
    },
    "papermill": {
     "duration": 0.04539,
     "end_time": "2022-03-08T14:01:23.051012",
     "exception": false,
     "start_time": "2022-03-08T14:01:23.005622",
     "status": "completed"
    },
    "tags": []
   },
   "outputs": [],
   "source": [
    "def sigmoid(x):\n",
    "    '''\n",
    "    Function to compute the sigmoid of a given input x.\n",
    "    \n",
    "    Input:\n",
    "    x: it's the input data matrix. The shape is (N, H)\n",
    "\n",
    "    Output:\n",
    "    g: The sigmoid of the input x\n",
    "    '''\n",
    "    \n",
    "    #####################################################\n",
    "    g = 1 / ( 1 + np.exp(-x))\n",
    "    #####################################################\n",
    "\n",
    "    return g\n",
    "\n",
    "def log_likelihood(theta,features,target):                          \n",
    "    '''\n",
    "    Function to compute the log likehood of theta according to data x and label y\n",
    "    \n",
    "    Input:\n",
    "    theta: it's the model parameter matrix.\n",
    "    features: it's the input data matrix. The shape is (N, H)\n",
    "    target: the label array\n",
    "    \n",
    "    Output:\n",
    "    log_g: the log likehood of theta according to data x and label y\n",
    "    '''\n",
    "    \n",
    "    #####################################################\n",
    "    m = features.shape[0]\n",
    "    h = sigmoid(np.dot(features, theta))                  \n",
    "    log_l =  ( np.dot(target, np.log(h)) + np.dot((1 - target), np.log(1 - h)) ) / m   #log_l=(y*log(sigθX)+(1-y)*log(1-sigθX))/m\n",
    "    #####################################################\n",
    "\n",
    "    return log_l\n",
    "\n",
    "\n",
    "def predictions(features, theta):        #sigmoid(θX)\n",
    "    '''\n",
    "    Function to compute the predictions for the input features\n",
    "    \n",
    "    Input:\n",
    "    theta: it's the model parameter matrix.\n",
    "    features: it's the input data matrix. The shape is (N, H)\n",
    "    \n",
    "    Output:\n",
    "    preds: the predictions of the input features\n",
    "    '''\n",
    "    \n",
    "    #####################################################\n",
    "    preds = sigmoid(np.dot(features, theta))\n",
    "    #####################################################\n",
    "\n",
    "    return preds                 "
   ]
  },
  {
   "cell_type": "markdown",
   "id": "29cdc928",
   "metadata": {
    "papermill": {
     "duration": 0.031419,
     "end_time": "2022-03-08T14:01:23.115001",
     "exception": false,
     "start_time": "2022-03-08T14:01:23.083582",
     "status": "completed"
    },
    "tags": []
   },
   "source": [
    "## For L1 regulartion:"
   ]
  },
  {
   "cell_type": "code",
   "execution_count": 17,
   "id": "a69153d8",
   "metadata": {
    "execution": {
     "iopub.execute_input": "2022-03-08T14:01:23.182916Z",
     "iopub.status.busy": "2022-03-08T14:01:23.182017Z",
     "iopub.status.idle": "2022-03-08T14:01:23.187964Z",
     "shell.execute_reply": "2022-03-08T14:01:23.188573Z",
     "shell.execute_reply.started": "2021-12-24T11:38:57.17849Z"
    },
    "papermill": {
     "duration": 0.041821,
     "end_time": "2022-03-08T14:01:23.188756",
     "exception": false,
     "start_time": "2022-03-08T14:01:23.146935",
     "status": "completed"
    },
    "tags": []
   },
   "outputs": [],
   "source": [
    "def update_theta_L1(theta, target, preds, features, lr):          \n",
    "    '''\n",
    "    Function to compute the gradient of the log likelihood\n",
    "    and then return the updated weights\n",
    "\n",
    "    Input:\n",
    "    theta: the model parameter matrix.\n",
    "    target: the label array\n",
    "    preds: the predictions of the input features\n",
    "    features: it's the input data matrix. The shape is (N, H)\n",
    "    lr: the learning rate\n",
    "    \n",
    "    Output:\n",
    "    theta: the updated model parameter matrix.\n",
    "    '''\n",
    "    lamb=2\n",
    "    #####################################################\n",
    "    m = len(target)                                        \n",
    "    preds = predictions(features, theta)                   \n",
    "    G = np.dot(np.transpose(features), target - preds)+lamb     #G=X*(y-θX)+λ      \n",
    "    theta = theta + lr * G / m                             #θ=θ+lr*G/m\n",
    "    #####################################################\n",
    "    return theta "
   ]
  },
  {
   "cell_type": "code",
   "execution_count": 18,
   "id": "9e246771",
   "metadata": {
    "execution": {
     "iopub.execute_input": "2022-03-08T14:01:23.260922Z",
     "iopub.status.busy": "2022-03-08T14:01:23.260044Z",
     "iopub.status.idle": "2022-03-08T14:01:23.263113Z",
     "shell.execute_reply": "2022-03-08T14:01:23.262535Z",
     "shell.execute_reply.started": "2021-12-24T11:38:57.194133Z"
    },
    "papermill": {
     "duration": 0.042096,
     "end_time": "2022-03-08T14:01:23.263256",
     "exception": false,
     "start_time": "2022-03-08T14:01:23.221160",
     "status": "completed"
    },
    "tags": []
   },
   "outputs": [],
   "source": [
    "def gradient_ascent_L1(theta, features, target, lr, num_steps):     \n",
    "    '''\n",
    "    Function to execute the gradient ascent algorithm\n",
    "\n",
    "    Input:\n",
    "    theta: the model parameter matrix.\n",
    "    target: the label array\n",
    "    num_steps: the number of iterations \n",
    "    features: the input data matrix. The shape is (N, H)\n",
    "    lr: the learning rate\n",
    "    \n",
    "    Output:\n",
    "    theta: the final model parameter matrix.\n",
    "    log_likelihood_history: the values of the log likelihood during the process\n",
    "    '''\n",
    "\n",
    "    log_likelihood_history = np.zeros(num_steps)                     \n",
    "    \n",
    "    #####################################################\n",
    "    preds = predictions(features, theta)                                                      \n",
    "    for i in range(num_steps):                                 \n",
    "      theta = update_theta_L1(theta, target, preds, features, lr)      \n",
    "      log_likelihood_history[i] = log_likelihood(theta, features, target)    \n",
    "    \n",
    "    #####################################################\n",
    "\n",
    "    return theta, log_likelihood_history "
   ]
  },
  {
   "cell_type": "code",
   "execution_count": 19,
   "id": "a57c1f56",
   "metadata": {
    "execution": {
     "iopub.execute_input": "2022-03-08T14:01:23.334670Z",
     "iopub.status.busy": "2022-03-08T14:01:23.333487Z",
     "iopub.status.idle": "2022-03-08T14:01:23.599778Z",
     "shell.execute_reply": "2022-03-08T14:01:23.601165Z",
     "shell.execute_reply.started": "2021-12-24T11:38:57.211761Z"
    },
    "papermill": {
     "duration": 0.305938,
     "end_time": "2022-03-08T14:01:23.601489",
     "exception": false,
     "start_time": "2022-03-08T14:01:23.295551",
     "status": "completed"
    },
    "tags": []
   },
   "outputs": [
    {
     "name": "stdout",
     "output_type": "stream",
     "text": [
      "[ 0.17727834  0.1090984  -0.41228298  0.43441911 -0.08769335  0.4096824\n",
      " -0.58945768  0.42049339  1.11572092 -0.53652013 -0.38141013 -0.09427538\n",
      "  0.00898718 -0.07723351  0.03552183 -0.58399354  0.41502926  0.03880471\n",
      "  1.04416618 -1.11569539]\n"
     ]
    }
   ],
   "source": [
    "# Initialize theta0\n",
    "theta0 = np.zeros(X_train.shape[1])                     \n",
    "# Run Gradient Ascent method\n",
    "n_iter=100\n",
    "theta_final_L1, log_l_history_L1 = gradient_ascent_L1(theta0,X_train,y_train,lr=0.5,num_steps=n_iter)\n",
    "print(theta_final_L1)"
   ]
  },
  {
   "cell_type": "code",
   "execution_count": 20,
   "id": "2ae56ffa",
   "metadata": {
    "execution": {
     "iopub.execute_input": "2022-03-08T14:01:23.726062Z",
     "iopub.status.busy": "2022-03-08T14:01:23.725020Z",
     "iopub.status.idle": "2022-03-08T14:01:23.924637Z",
     "shell.execute_reply": "2022-03-08T14:01:23.924040Z",
     "shell.execute_reply.started": "2021-12-24T11:38:57.490402Z"
    },
    "papermill": {
     "duration": 0.261439,
     "end_time": "2022-03-08T14:01:23.924799",
     "exception": false,
     "start_time": "2022-03-08T14:01:23.663360",
     "status": "completed"
    },
    "tags": []
   },
   "outputs": [
    {
     "data": {
      "image/png": "[encoded data removed]",
      "text/plain": [
       "<Figure size 432x288 with 1 Axes>"
      ]
     },
     "metadata": {
      "needs_background": "light"
     },
     "output_type": "display_data"
    }
   ],
   "source": [
    "fig,ax = plt.subplots(num=2)\n",
    "\n",
    "ax.set_ylabel('l(Theta)')\n",
    "ax.set_xlabel('Iterations')\n",
    "_=ax.plot(range(len(log_l_history_L1)),log_l_history_L1,'b.')"
   ]
  },
  {
   "cell_type": "code",
   "execution_count": 21,
   "id": "37ed4da8",
   "metadata": {
    "execution": {
     "iopub.execute_input": "2022-03-08T14:01:23.995270Z",
     "iopub.status.busy": "2022-03-08T14:01:23.994525Z",
     "iopub.status.idle": "2022-03-08T14:01:24.004858Z",
     "shell.execute_reply": "2022-03-08T14:01:24.005392Z",
     "shell.execute_reply.started": "2021-12-24T11:38:57.715575Z"
    },
    "papermill": {
     "duration": 0.047498,
     "end_time": "2022-03-08T14:01:24.005585",
     "exception": false,
     "start_time": "2022-03-08T14:01:23.958087",
     "status": "completed"
    },
    "tags": []
   },
   "outputs": [],
   "source": [
    "preds = predictions(X_test, theta_final_L1)\n",
    "TP=0\n",
    "FP=0\n",
    "FN=0\n",
    "TN=0\n",
    "for i in range(len(y_test)):\n",
    "    if preds[i]>0.5 and y_test.values[i]==1:\n",
    "        TP=TP+1\n",
    "    elif preds[i]>0.5 and y_test.values[i]==0:\n",
    "        FP=FP+1\n",
    "    elif preds[i]<0.5 and y_test.values[i]==1:\n",
    "        FN=FN+1\n",
    "    elif preds[i]<0.5 and y_test.values[i]==0:\n",
    "        TN=TN+1\n",
    "Accuracy=(TP+TN)/(TP+TN+FP+FN)\n",
    "Precision=TP/(TP+FP)\n",
    "Recall=TP/(TP+FN)\n",
    "F_Score=2*(Precision*Recall)/(Precision+Recall)\n",
    "FPR=FP/(FN+TN)"
   ]
  },
  {
   "cell_type": "code",
   "execution_count": 22,
   "id": "dc6e3584",
   "metadata": {
    "execution": {
     "iopub.execute_input": "2022-03-08T14:01:24.075753Z",
     "iopub.status.busy": "2022-03-08T14:01:24.074986Z",
     "iopub.status.idle": "2022-03-08T14:01:24.081268Z",
     "shell.execute_reply": "2022-03-08T14:01:24.081915Z",
     "shell.execute_reply.started": "2021-12-24T11:38:57.729492Z"
    },
    "papermill": {
     "duration": 0.043008,
     "end_time": "2022-03-08T14:01:24.082102",
     "exception": false,
     "start_time": "2022-03-08T14:01:24.039094",
     "status": "completed"
    },
    "tags": []
   },
   "outputs": [
    {
     "name": "stdout",
     "output_type": "stream",
     "text": [
      "f1_score: 0.8738738738738738\n",
      "score: 0.8508771929824561\n",
      "recall_score: 0.8981481481481481\n",
      "accuracy_score: 0.8478260869565217\n"
     ]
    }
   ],
   "source": [
    "print(\"f1_score:\",F_Score)\n",
    "print(\"score:\",Precision)\n",
    "print(\"recall_score:\",Recall)\n",
    "print(\"accuracy_score:\",Accuracy)"
   ]
  },
  {
   "cell_type": "markdown",
   "id": "4a9a05d6",
   "metadata": {
    "papermill": {
     "duration": 0.034283,
     "end_time": "2022-03-08T14:01:24.150253",
     "exception": false,
     "start_time": "2022-03-08T14:01:24.115970",
     "status": "completed"
    },
    "tags": []
   },
   "source": [
    "## Momentum"
   ]
  },
  {
   "cell_type": "code",
   "execution_count": 23,
   "id": "800be83f",
   "metadata": {
    "execution": {
     "iopub.execute_input": "2022-03-08T14:01:24.222270Z",
     "iopub.status.busy": "2022-03-08T14:01:24.221590Z",
     "iopub.status.idle": "2022-03-08T14:01:24.227996Z",
     "shell.execute_reply": "2022-03-08T14:01:24.228644Z",
     "shell.execute_reply.started": "2021-12-24T11:38:57.748189Z"
    },
    "papermill": {
     "duration": 0.043679,
     "end_time": "2022-03-08T14:01:24.228826",
     "exception": false,
     "start_time": "2022-03-08T14:01:24.185147",
     "status": "completed"
    },
    "tags": []
   },
   "outputs": [],
   "source": [
    "def update_theta_M(theta, target, preds, features, lr,v):          \n",
    "    '''\n",
    "    Function to compute the gradient of the log likelihood\n",
    "    and then return the updated weights\n",
    "\n",
    "    Input:\n",
    "    theta: the model parameter matrix.\n",
    "    target: the label array\n",
    "    preds: the predictions of the input features\n",
    "    features: it's the input data matrix. The shape is (N, H)\n",
    "    lr: the learning rate\n",
    "    \n",
    "    Output:\n",
    "    theta: the updated model parameter matrix.\n",
    "    '''\n",
    "    #####################################################\n",
    "    m = len(target)                                        \n",
    "    preds = predictions(features, theta)\n",
    "    gama=0.9\n",
    "    G = np.dot(np.transpose(features), target - preds)\n",
    "    v=gama*v+lr * G / m \n",
    "    theta = theta + v\n",
    "    #####################################################\n",
    "    return theta,v "
   ]
  },
  {
   "cell_type": "code",
   "execution_count": 24,
   "id": "767c605e",
   "metadata": {
    "execution": {
     "iopub.execute_input": "2022-03-08T14:01:24.299590Z",
     "iopub.status.busy": "2022-03-08T14:01:24.298861Z",
     "iopub.status.idle": "2022-03-08T14:01:24.304804Z",
     "shell.execute_reply": "2022-03-08T14:01:24.305337Z",
     "shell.execute_reply.started": "2021-12-24T11:38:57.75978Z"
    },
    "papermill": {
     "duration": 0.043184,
     "end_time": "2022-03-08T14:01:24.305529",
     "exception": false,
     "start_time": "2022-03-08T14:01:24.262345",
     "status": "completed"
    },
    "tags": []
   },
   "outputs": [],
   "source": [
    "def gradient_ascent_M(theta, features, target, lr, num_steps):     \n",
    "    '''\n",
    "    Function to execute the gradient ascent algorithm\n",
    "\n",
    "    Input:\n",
    "    theta: the model parameter matrix.\n",
    "    target: the label array\n",
    "    num_steps: the number of iterations \n",
    "    features: the input data matrix. The shape is (N, H)\n",
    "    lr: the learning rate\n",
    "    \n",
    "    Output:\n",
    "    theta: the final model parameter matrix.\n",
    "    log_likelihood_history: the values of the log likelihood during the process\n",
    "    '''\n",
    "\n",
    "    log_likelihood_history = np.zeros(num_steps)                    \n",
    "    \n",
    "    #####################################################\n",
    "    preds = predictions(features, theta)                        \n",
    "    v=0\n",
    "    for i in range(num_steps):                                 \n",
    "      theta,v = update_theta_M(theta, target, preds, features, lr,v)      \n",
    "      log_likelihood_history[i] = log_likelihood(theta, features, target)    \n",
    "    \n",
    "    #####################################################\n",
    "\n",
    "    return theta, log_likelihood_history "
   ]
  },
  {
   "cell_type": "code",
   "execution_count": 25,
   "id": "6dd5e339",
   "metadata": {
    "execution": {
     "iopub.execute_input": "2022-03-08T14:01:24.377356Z",
     "iopub.status.busy": "2022-03-08T14:01:24.376545Z",
     "iopub.status.idle": "2022-03-08T14:01:24.645792Z",
     "shell.execute_reply": "2022-03-08T14:01:24.646701Z",
     "shell.execute_reply.started": "2021-12-24T11:38:57.775023Z"
    },
    "papermill": {
     "duration": 0.308187,
     "end_time": "2022-03-08T14:01:24.646996",
     "exception": false,
     "start_time": "2022-03-08T14:01:24.338809",
     "status": "completed"
    },
    "tags": []
   },
   "outputs": [
    {
     "name": "stdout",
     "output_type": "stream",
     "text": [
      "[ 0.25940703  0.15165909 -0.44451869  0.3968047   0.0243849   0.33019303\n",
      " -1.00266092  0.61537735  1.42511533 -0.74836125 -0.51617346 -0.54786419\n",
      " -0.11024614 -0.1222941  -0.15474332 -0.58530415  0.19802058 -0.1470634\n",
      "  1.21023846 -1.45045862]\n"
     ]
    }
   ],
   "source": [
    "# Initialize theta0\n",
    "theta0 = np.zeros(X_train.shape[1])                      \n",
    "# Run Gradient Ascent method\n",
    "n_iter=100\n",
    "theta_final_M, log_l_history_M = gradient_ascent_M(theta0,X_train,y_train,lr=0.5,num_steps=n_iter)\n",
    "print(theta_final_M)"
   ]
  },
  {
   "cell_type": "code",
   "execution_count": 26,
   "id": "a941e4ae",
   "metadata": {
    "execution": {
     "iopub.execute_input": "2022-03-08T14:01:24.788198Z",
     "iopub.status.busy": "2022-03-08T14:01:24.787418Z",
     "iopub.status.idle": "2022-03-08T14:01:24.982823Z",
     "shell.execute_reply": "2022-03-08T14:01:24.982293Z",
     "shell.execute_reply.started": "2021-12-24T11:38:58.079644Z"
    },
    "papermill": {
     "duration": 0.271264,
     "end_time": "2022-03-08T14:01:24.982969",
     "exception": false,
     "start_time": "2022-03-08T14:01:24.711705",
     "status": "completed"
    },
    "tags": []
   },
   "outputs": [
    {
     "data": {
      "image/png": "[encoded data removed]",
      "text/plain": [
       "<Figure size 432x288 with 1 Axes>"
      ]
     },
     "metadata": {
      "needs_background": "light"
     },
     "output_type": "display_data"
    }
   ],
   "source": [
    "fig,ax = plt.subplots(num=2)\n",
    "\n",
    "ax.set_ylabel('l(Theta)')\n",
    "ax.set_xlabel('Iterations')\n",
    "_=ax.plot(range(len(log_l_history_M)),log_l_history_M,'b.')"
   ]
  },
  {
   "cell_type": "code",
   "execution_count": 27,
   "id": "236fbe25",
   "metadata": {
    "execution": {
     "iopub.execute_input": "2022-03-08T14:01:25.067025Z",
     "iopub.status.busy": "2022-03-08T14:01:25.066177Z",
     "iopub.status.idle": "2022-03-08T14:01:25.069157Z",
     "shell.execute_reply": "2022-03-08T14:01:25.068636Z",
     "shell.execute_reply.started": "2021-12-24T11:38:58.310413Z"
    },
    "papermill": {
     "duration": 0.050204,
     "end_time": "2022-03-08T14:01:25.069375",
     "exception": false,
     "start_time": "2022-03-08T14:01:25.019171",
     "status": "completed"
    },
    "tags": []
   },
   "outputs": [],
   "source": [
    "preds = predictions(X_test, theta_final_M)\n",
    "TP=0\n",
    "FP=0\n",
    "FN=0\n",
    "TN=0\n",
    "for i in range(len(y_test)):\n",
    "    if preds[i]>0.5 and y_test.values[i]==1:\n",
    "        TP=TP+1\n",
    "    elif preds[i]>0.5 and y_test.values[i]==0:\n",
    "        FP=FP+1\n",
    "    elif preds[i]<0.5 and y_test.values[i]==1:\n",
    "        FN=FN+1\n",
    "    elif preds[i]<0.5 and y_test.values[i]==0:\n",
    "        TN=TN+1\n",
    "Accuracy=(TP+TN)/(TP+TN+FP+FN)\n",
    "Precision=TP/(TP+FP)\n",
    "Recall=TP/(TP+FN)\n",
    "F_Score=2*(Precision*Recall)/(Precision+Recall)\n",
    "FPR=FP/(FN+TN)"
   ]
  },
  {
   "cell_type": "code",
   "execution_count": 28,
   "id": "3f5729fd",
   "metadata": {
    "execution": {
     "iopub.execute_input": "2022-03-08T14:01:25.146738Z",
     "iopub.status.busy": "2022-03-08T14:01:25.146023Z",
     "iopub.status.idle": "2022-03-08T14:01:25.150394Z",
     "shell.execute_reply": "2022-03-08T14:01:25.149850Z",
     "shell.execute_reply.started": "2021-12-24T11:38:58.325075Z"
    },
    "papermill": {
     "duration": 0.045863,
     "end_time": "2022-03-08T14:01:25.150574",
     "exception": false,
     "start_time": "2022-03-08T14:01:25.104711",
     "status": "completed"
    },
    "tags": []
   },
   "outputs": [
    {
     "name": "stdout",
     "output_type": "stream",
     "text": [
      "f1_score: 0.8687782805429864\n",
      "score: 0.8495575221238938\n",
      "recall_score: 0.8888888888888888\n",
      "accuracy_score: 0.842391304347826\n"
     ]
    }
   ],
   "source": [
    "print(\"f1_score:\",F_Score)\n",
    "print(\"score:\",Precision)\n",
    "print(\"recall_score:\",Recall)\n",
    "print(\"accuracy_score:\",Accuracy)"
   ]
  },
  {
   "cell_type": "markdown",
   "id": "3d2acecf",
   "metadata": {
    "papermill": {
     "duration": 0.034622,
     "end_time": "2022-03-08T14:01:25.220422",
     "exception": false,
     "start_time": "2022-03-08T14:01:25.185800",
     "status": "completed"
    },
    "tags": []
   },
   "source": [
    "From the graphic, we can find that the loss function converges faster. It means that it get to the convergency with less iterations"
   ]
  }
 ],
 "metadata": {
  "kernelspec": {
   "display_name": "Python 3",
   "language": "python",
   "name": "python3"
  },
  "language_info": {
   "codemirror_mode": {
    "name": "ipython",
    "version": 3
   },
   "file_extension": ".py",
   "mimetype": "text/x-python",
   "name": "python",
   "nbconvert_exporter": "python",
   "pygments_lexer": "ipython3",
   "version": "3.7.12"
  },
  "papermill": {
   "default_parameters": {},
   "duration": 27.246766,
   "end_time": "2022-03-08T14:01:26.422009",
   "environment_variables": {},
   "exception": null,
   "input_path": "__notebook__.ipynb",
   "output_path": "__notebook__.ipynb",
   "parameters": {},
   "start_time": "2022-03-08T14:00:59.175243",
   "version": "2.3.3"
  }
 },
 "nbformat": 4,
 "nbformat_minor": 5
}
